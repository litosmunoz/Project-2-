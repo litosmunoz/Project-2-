{
 "cells": [
  {
   "cell_type": "code",
   "execution_count": 48,
   "metadata": {},
   "outputs": [],
   "source": [
    "import pandas as pd\n",
    "import numpy as np\n",
    "import seaborn as sns\n",
    "import matplotlib.pyplot as plt"
   ]
  },
  {
   "cell_type": "code",
   "execution_count": 49,
   "metadata": {},
   "outputs": [
    {
     "data": {
      "text/html": [
       "<div>\n",
       "<style scoped>\n",
       "    .dataframe tbody tr th:only-of-type {\n",
       "        vertical-align: middle;\n",
       "    }\n",
       "\n",
       "    .dataframe tbody tr th {\n",
       "        vertical-align: top;\n",
       "    }\n",
       "\n",
       "    .dataframe thead th {\n",
       "        text-align: right;\n",
       "    }\n",
       "</style>\n",
       "<table border=\"1\" class=\"dataframe\">\n",
       "  <thead>\n",
       "    <tr style=\"text-align: right;\">\n",
       "      <th></th>\n",
       "      <th>Unnamed: 0</th>\n",
       "      <th>Min</th>\n",
       "      <th>Median</th>\n",
       "      <th>Mean</th>\n",
       "      <th>Max</th>\n",
       "      <th>Std</th>\n",
       "    </tr>\n",
       "  </thead>\n",
       "  <tbody>\n",
       "    <tr>\n",
       "      <th>0</th>\n",
       "      <td>$/Txn_variation</td>\n",
       "      <td>0.12</td>\n",
       "      <td>0.94</td>\n",
       "      <td>1.11</td>\n",
       "      <td>2.55</td>\n",
       "      <td>0.49</td>\n",
       "    </tr>\n",
       "    <tr>\n",
       "      <th>1</th>\n",
       "      <td>$/Buyer_variation</td>\n",
       "      <td>0.34</td>\n",
       "      <td>0.99</td>\n",
       "      <td>1.16</td>\n",
       "      <td>2.82</td>\n",
       "      <td>0.48</td>\n",
       "    </tr>\n",
       "    <tr>\n",
       "      <th>2</th>\n",
       "      <td>Txn/Buyer_variation</td>\n",
       "      <td>0.87</td>\n",
       "      <td>1.01</td>\n",
       "      <td>1.09</td>\n",
       "      <td>2.94</td>\n",
       "      <td>0.33</td>\n",
       "    </tr>\n",
       "  </tbody>\n",
       "</table>\n",
       "</div>"
      ],
      "text/plain": [
       "            Unnamed: 0   Min  Median  Mean   Max   Std\n",
       "0      $/Txn_variation  0.12    0.94  1.11  2.55  0.49\n",
       "1    $/Buyer_variation  0.34    0.99  1.16  2.82  0.48\n",
       "2  Txn/Buyer_variation  0.87    1.01  1.09  2.94  0.33"
      ]
     },
     "execution_count": 49,
     "metadata": {},
     "output_type": "execute_result"
    }
   ],
   "source": [
    "Final_Kpis = pd.read_csv('../dataset/final_kpis.csv',  encoding= 'unicode_escape')\n",
    "Final_Kpis"
   ]
  },
  {
   "cell_type": "markdown",
   "metadata": {},
   "source": [
    "### Cleaning Conclusion \n",
    "We can see that although the NFT market as a whole has seen sharp declines in floor prices and sales volumes within collections, the top collections, these are the ones that have managed to stay in the top 100 since November 2021 until now, have experienced: \n",
    "1. An increase in dollars spent per transaction\n",
    "2. An increase in dollars spent per buyer \n",
    "3. An increase in transactions per buyer \n",
    "\n",
    "Shown by the mean being > 1.\n",
    "\n",
    "Although values have a quite high standard deviation, the median suggests that ratios have remained constant, which is quite impressive taking into account market conditions. We need to consider that this sample contains mainly ethereum projects, so it may be a bit biased for the rest of blockchains."
   ]
  },
  {
   "cell_type": "markdown",
   "metadata": {},
   "source": []
  },
  {
   "cell_type": "markdown",
   "metadata": {},
   "source": [
    "## Visualization"
   ]
  },
  {
   "cell_type": "code",
   "execution_count": 50,
   "metadata": {},
   "outputs": [],
   "source": [
    "%matplotlib inline\n",
    "%config Inlinebackend.figure_format= 'retina'\n",
    "sns.set_context(\"poster\")\n",
    "sns.set(rc={\"figure.figsize\": (12.,6.)})\n",
    "sns.set_style(\"whitegrid\")"
   ]
  },
  {
   "cell_type": "code",
   "execution_count": 51,
   "metadata": {},
   "outputs": [],
   "source": [
    "NFT_data = pd.read_csv(\"../dataset/NFT_data.csv\", encoding= 'unicode_escape')"
   ]
  },
  {
   "cell_type": "code",
   "execution_count": 52,
   "metadata": {},
   "outputs": [
    {
     "data": {
      "text/html": [
       "<div>\n",
       "<style scoped>\n",
       "    .dataframe tbody tr th:only-of-type {\n",
       "        vertical-align: middle;\n",
       "    }\n",
       "\n",
       "    .dataframe tbody tr th {\n",
       "        vertical-align: top;\n",
       "    }\n",
       "\n",
       "    .dataframe thead th {\n",
       "        text-align: right;\n",
       "    }\n",
       "</style>\n",
       "<table border=\"1\" class=\"dataframe\">\n",
       "  <thead>\n",
       "    <tr style=\"text-align: right;\">\n",
       "      <th></th>\n",
       "      <th>USD_Sales_in_millions_not_updated</th>\n",
       "      <th>USD_Sales_in_millions_Updated</th>\n",
       "    </tr>\n",
       "    <tr>\n",
       "      <th>blockchainId</th>\n",
       "      <th></th>\n",
       "      <th></th>\n",
       "    </tr>\n",
       "  </thead>\n",
       "  <tbody>\n",
       "    <tr>\n",
       "      <th>ethereum</th>\n",
       "      <td>7174.529747</td>\n",
       "      <td>13961.664810</td>\n",
       "    </tr>\n",
       "    <tr>\n",
       "      <th>flow</th>\n",
       "      <td>781.965423</td>\n",
       "      <td>1033.386630</td>\n",
       "    </tr>\n",
       "    <tr>\n",
       "      <th>ronin</th>\n",
       "      <td>3328.148500</td>\n",
       "      <td>4090.984209</td>\n",
       "    </tr>\n",
       "    <tr>\n",
       "      <th>solana</th>\n",
       "      <td>341.830698</td>\n",
       "      <td>478.280755</td>\n",
       "    </tr>\n",
       "    <tr>\n",
       "      <th>wax</th>\n",
       "      <td>142.416548</td>\n",
       "      <td>196.437432</td>\n",
       "    </tr>\n",
       "  </tbody>\n",
       "</table>\n",
       "</div>"
      ],
      "text/plain": [
       "              USD_Sales_in_millions_not_updated  USD_Sales_in_millions_Updated\n",
       "blockchainId                                                                  \n",
       "ethereum                            7174.529747                   13961.664810\n",
       "flow                                 781.965423                    1033.386630\n",
       "ronin                               3328.148500                    4090.984209\n",
       "solana                               341.830698                     478.280755\n",
       "wax                                  142.416548                     196.437432"
      ]
     },
     "metadata": {},
     "output_type": "display_data"
    }
   ],
   "source": [
    "# create dataframe for blockchain sales\n",
    "blockchain_sales = NFT_data.groupby('blockchainId').agg({'USD_Sales_in_millions_not_updated' : 'sum', 'USD_Sales_in_millions_Updated' : 'sum',})\n",
    "display(blockchain_sales)"
   ]
  },
  {
   "cell_type": "code",
   "execution_count": 53,
   "metadata": {},
   "outputs": [
    {
     "data": {
      "image/png": "[encoded data removed]",
      "text/plain": [
       "<Figure size 864x432 with 1 Axes>"
      ]
     },
     "metadata": {},
     "output_type": "display_data"
    }
   ],
   "source": [
    "#Top collections are usually built in ethereum as sales have increased much more proportionately to the rest of blockchains.\n",
    "graph_1 = blockchain_sales.plot.bar()\n",
    "plt.title('Sales in USD per blockchain')\n",
    "plt.xlabel('Blockchain ID')\n",
    "plt.ylabel('Sales in USD')\n",
    "graph_1.figure.savefig('../images/Results/Graph_1.png', dpi=1000)"
   ]
  },
  {
   "cell_type": "code",
   "execution_count": 54,
   "metadata": {},
   "outputs": [
    {
     "data": {
      "text/html": [
       "<div>\n",
       "<style scoped>\n",
       "    .dataframe tbody tr th:only-of-type {\n",
       "        vertical-align: middle;\n",
       "    }\n",
       "\n",
       "    .dataframe tbody tr th {\n",
       "        vertical-align: top;\n",
       "    }\n",
       "\n",
       "    .dataframe thead th {\n",
       "        text-align: right;\n",
       "    }\n",
       "</style>\n",
       "<table border=\"1\" class=\"dataframe\">\n",
       "  <thead>\n",
       "    <tr style=\"text-align: right;\">\n",
       "      <th></th>\n",
       "      <th>Txns_not_updated</th>\n",
       "      <th>Txns_Updated</th>\n",
       "    </tr>\n",
       "    <tr>\n",
       "      <th>blockchainId</th>\n",
       "      <th></th>\n",
       "      <th></th>\n",
       "    </tr>\n",
       "  </thead>\n",
       "  <tbody>\n",
       "    <tr>\n",
       "      <th>ethereum</th>\n",
       "      <td>1437917</td>\n",
       "      <td>5071153</td>\n",
       "    </tr>\n",
       "    <tr>\n",
       "      <th>flow</th>\n",
       "      <td>11790699</td>\n",
       "      <td>21862169</td>\n",
       "    </tr>\n",
       "    <tr>\n",
       "      <th>ronin</th>\n",
       "      <td>9755511</td>\n",
       "      <td>17718939</td>\n",
       "    </tr>\n",
       "    <tr>\n",
       "      <th>solana</th>\n",
       "      <td>54262</td>\n",
       "      <td>80819</td>\n",
       "    </tr>\n",
       "    <tr>\n",
       "      <th>wax</th>\n",
       "      <td>456350</td>\n",
       "      <td>5414003</td>\n",
       "    </tr>\n",
       "  </tbody>\n",
       "</table>\n",
       "</div>"
      ],
      "text/plain": [
       "              Txns_not_updated  Txns_Updated\n",
       "blockchainId                                \n",
       "ethereum               1437917       5071153\n",
       "flow                  11790699      21862169\n",
       "ronin                  9755511      17718939\n",
       "solana                   54262         80819\n",
       "wax                     456350       5414003"
      ]
     },
     "metadata": {},
     "output_type": "display_data"
    }
   ],
   "source": [
    "#Create a dataframe for blockchain transactions\n",
    "blockchains_transactions = NFT_data.groupby('blockchainId').agg({'Txns_not_updated' : 'sum', 'Txns_Updated': 'sum'},)\n",
    "display(blockchains_transactions)"
   ]
  },
  {
   "cell_type": "code",
   "execution_count": 55,
   "metadata": {},
   "outputs": [
    {
     "data": {
      "image/png": "[encoded data removed]",
      "text/plain": [
       "<Figure size 864x432 with 1 Axes>"
      ]
     },
     "metadata": {},
     "output_type": "display_data"
    }
   ],
   "source": [
    "# Even though collections in ethereum receive more funding, we can see that other blockchains (with less projects in the top 100) manage to process more transactions. \n",
    "# This suggests that collections built on ethereum might be more expensive.\n",
    "graph_2 = blockchains_transactions.plot.barh()\n",
    "plt.title('Transactions per blockchain')\n",
    "plt.xlabel('Number of Transactions')\n",
    "plt.ylabel('Blockchain ID')\n",
    "graph_2.figure.savefig('../images/Results/Graph_2.png', dpi=1000)"
   ]
  },
  {
   "cell_type": "code",
   "execution_count": 56,
   "metadata": {},
   "outputs": [],
   "source": [
    "NFT_kpis = pd.read_csv(\"../dataset/NFT_kpis.csv\", encoding= 'unicode_escape')"
   ]
  },
  {
   "cell_type": "code",
   "execution_count": 57,
   "metadata": {},
   "outputs": [
    {
     "data": {
      "text/html": [
       "<div>\n",
       "<style scoped>\n",
       "    .dataframe tbody tr th:only-of-type {\n",
       "        vertical-align: middle;\n",
       "    }\n",
       "\n",
       "    .dataframe tbody tr th {\n",
       "        vertical-align: top;\n",
       "    }\n",
       "\n",
       "    .dataframe thead th {\n",
       "        text-align: right;\n",
       "    }\n",
       "</style>\n",
       "<table border=\"1\" class=\"dataframe\">\n",
       "  <thead>\n",
       "    <tr style=\"text-align: right;\">\n",
       "      <th></th>\n",
       "      <th>$/Txn_variation</th>\n",
       "      <th>$/Buyer_variation</th>\n",
       "      <th>Txn/Buyer_variation</th>\n",
       "    </tr>\n",
       "    <tr>\n",
       "      <th>blockchainId</th>\n",
       "      <th></th>\n",
       "      <th></th>\n",
       "      <th></th>\n",
       "    </tr>\n",
       "  </thead>\n",
       "  <tbody>\n",
       "    <tr>\n",
       "      <th>ethereum</th>\n",
       "      <td>1.180057</td>\n",
       "      <td>1.213464</td>\n",
       "      <td>1.042033</td>\n",
       "    </tr>\n",
       "    <tr>\n",
       "      <th>flow</th>\n",
       "      <td>0.712121</td>\n",
       "      <td>1.108821</td>\n",
       "      <td>1.555938</td>\n",
       "    </tr>\n",
       "    <tr>\n",
       "      <th>ronin</th>\n",
       "      <td>0.674487</td>\n",
       "      <td>0.740753</td>\n",
       "      <td>1.094679</td>\n",
       "    </tr>\n",
       "    <tr>\n",
       "      <th>solana</th>\n",
       "      <td>0.928607</td>\n",
       "      <td>0.912063</td>\n",
       "      <td>0.978171</td>\n",
       "    </tr>\n",
       "    <tr>\n",
       "      <th>wax</th>\n",
       "      <td>0.115385</td>\n",
       "      <td>0.342170</td>\n",
       "      <td>2.943014</td>\n",
       "    </tr>\n",
       "  </tbody>\n",
       "</table>\n",
       "</div>"
      ],
      "text/plain": [
       "              $/Txn_variation  $/Buyer_variation  Txn/Buyer_variation\n",
       "blockchainId                                                         \n",
       "ethereum             1.180057           1.213464             1.042033\n",
       "flow                 0.712121           1.108821             1.555938\n",
       "ronin                0.674487           0.740753             1.094679\n",
       "solana               0.928607           0.912063             0.978171\n",
       "wax                  0.115385           0.342170             2.943014"
      ]
     },
     "metadata": {},
     "output_type": "display_data"
    }
   ],
   "source": [
    "# Create a dataframe calculating the mean of the variation KPIs\n",
    "blockchain_kpi = NFT_kpis.groupby('blockchainId').agg({'$/Txn_variation' :'mean', '$/Buyer_variation':'mean', 'Txn/Buyer_variation' : 'mean'},)\n",
    "display(blockchain_kpi)"
   ]
  },
  {
   "cell_type": "code",
   "execution_count": 58,
   "metadata": {},
   "outputs": [
    {
     "data": {
      "image/png": "[encoded data removed]",
      "text/plain": [
       "<Figure size 864x432 with 1 Axes>"
      ]
     },
     "metadata": {},
     "output_type": "display_data"
    }
   ],
   "source": [
    "# projects built on top of ethereum (and solana, but less representative) are the most resilient to market conditions shown by the mean of the following ratios:\n",
    "#1. $/Txn_variation > 1\n",
    "#2. $/Buyer_variation > 1\n",
    "#3. Txn/Buyer_variation > 1\n",
    "#Blockchains such as flow and wax have seen a reduction in dollars spent per transaction and an increase in transactions per buyer, suggesting that there is demand for low priced NFT collections.\n",
    "graph_3 = blockchain_kpi.plot.bar()\n",
    "plt.title('Mean of variations')\n",
    "plt.xlabel('Blockchain ID')\n",
    "graph_3.figure.savefig('../images/Results/Graph_3.png', dpi=1000)"
   ]
  },
  {
   "cell_type": "markdown",
   "metadata": {},
   "source": [
    "### Visualization Conclusions"
   ]
  },
  {
   "cell_type": "markdown",
   "metadata": {},
   "source": [
    "In Graph 1, we see that top collections are usually built in ethereum as Sales have increased much more proportionately to the rest of blockchains.\n",
    "\n",
    "Graph 2 shows something very interesting, even though collections in ethereum receive more funding, we can see that other blockchains (with less projects in the top 100) manage to process more transactions. This suggests that collections built on ethereum might be more expensive.\n",
    "\n",
    "Graph 3 suggests that projects built on top of ethereum (and solana, but less representative) are the most resilient to market conditions shown by the mean of the following ratios:\n",
    "1. $/Txn_variation > 1\n",
    "2. $/Buyer_variation > 1\n",
    "3. Txn/Buyer_variation > 1\n",
    "\n",
    "Blockchains such as flow and wax have seen a reduction in dollars spent per transaction and an increase in transactions per buyer, suggesting that there is demand for low priced NFT collections."
   ]
  }
 ],
 "metadata": {
  "kernelspec": {
   "display_name": "Python 3.9.12 ('base')",
   "language": "python",
   "name": "python3"
  },
  "language_info": {
   "codemirror_mode": {
    "name": "ipython",
    "version": 3
   },
   "file_extension": ".py",
   "mimetype": "text/x-python",
   "name": "python",
   "nbconvert_exporter": "python",
   "pygments_lexer": "ipython3",
   "version": "3.9.12"
  },
  "orig_nbformat": 4,
  "vscode": {
   "interpreter": {
    "hash": "8e76f8642360a3358ab06c318ab18c1161224eb3836609d5c16edea6f6e43dba"
   }
  }
 },
 "nbformat": 4,
 "nbformat_minor": 2
}
